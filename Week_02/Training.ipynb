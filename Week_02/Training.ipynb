{
 "cells": [
  {
   "cell_type": "code",
   "id": "initial_id",
   "metadata": {
    "collapsed": true,
    "ExecuteTime": {
     "end_time": "2025-03-24T07:26:08.320439Z",
     "start_time": "2025-03-24T07:26:08.222842Z"
    }
   },
   "source": [
    "import pandas as pd\n",
    "from sklearn.model_selection import train_test_split, GridSearchCV\n",
    "from sklearn.tree import DecisionTreeClassifier\n",
    "from sklearn.metrics import classification_report, accuracy_score\n",
    "import matplotlib.pyplot as plt\n",
    "import seaborn as sns"
   ],
   "outputs": [],
   "execution_count": 2
  },
  {
   "metadata": {
    "ExecuteTime": {
     "end_time": "2025-03-24T07:26:08.330806Z",
     "start_time": "2025-03-24T07:26:08.324545Z"
    }
   },
   "cell_type": "code",
   "source": "df = pd.read_csv(\"Data.csv\")",
   "id": "7555162645d36963",
   "outputs": [],
   "execution_count": 3
  },
  {
   "metadata": {
    "ExecuteTime": {
     "end_time": "2025-03-24T07:26:08.388927Z",
     "start_time": "2025-03-24T07:26:08.371968Z"
    }
   },
   "cell_type": "code",
   "source": [
    "import numpy as np\n",
    "import pandas as pd\n",
    "\n",
    "# ===== 1. Polynomial & Interaction Features =====\n",
    "df['AT^2'] = df['AT'] ** 2\n",
    "df['V^2'] = df['V'] ** 2\n",
    "df['AP^2'] = df['AP'] ** 2\n",
    "df['RH^2'] = df['RH'] ** 2\n",
    "\n",
    "# Pairwise interactions\n",
    "df['AT_V'] = df['AT'] * df['V'] # GT-ST interaction\n",
    "df['AT_AP'] = df['AT'] * df['AP']\n",
    "df['AT_RH'] = df['AT'] * df['RH']\n",
    "df['V_AP'] = df['V'] * df['AP']\n",
    "df['V_RH'] = df['V'] * df['RH']\n",
    "df['AP_RH'] = df['AP'] * df['RH']\n",
    "\n",
    "# Composite feature representing overall turbine influence\n",
    "df['GT_ST_Index'] = (df['AT'] * df['RH']) / (df['V'] + 1)  # Avoid division by zero\n",
    "\n",
    "# ===== 2. Temperature Features =====\n",
    "df['AT_diff_mean'] = df['AT'] - df['AT'].mean()\n",
    "df['AT_norm'] = (df['AT'] - df['AT'].min()) / (df['AT'].max() - df['AT'].min())\n",
    "\n",
    "# Heat Index (per NOAA formula)\n",
    "df['HI'] = (-42.379 + 2.04901523 * df['AT'] + 10.14333127 * df['RH'] -\n",
    "            0.22475541 * df['AT'] * df['RH'] - 0.00683783 * df['AT']**2 -\n",
    "            0.05481717 * df['RH']**2 + 0.00122874 * df['AT']**2 * df['RH'] +\n",
    "            0.00085282 * df['AT'] * df['RH']**2 - 0.00000199 * df['AT']**2 * df['RH']**2)\n",
    "\n",
    "# ===== 3. Pressure & Humidity Features =====\n",
    "df['AP_diff_mean'] = df['AP'] - df['AP'].mean()\n",
    "df['RH_diff_mean'] = df['RH'] - df['RH'].mean()\n",
    "\n",
    "# Dew Point (in °C)\n",
    "df['Dew_Point'] = df['AT'] - (100 - df['RH']) / 5\n",
    "\n",
    "# Vapor Pressure\n",
    "df['P_vapor'] = df['RH'] * 6.11 * np.exp((17.27 * df['AT']) / (df['AT'] + 237.3)) / 100\n",
    "\n",
    "# Humidity Ratio\n",
    "df['Humidity_Ratio'] = (0.622 * df['P_vapor']) / (df['AP'] - df['P_vapor'])\n",
    "\n",
    "# Cooling Power Index: useful for thermal efficiency estimation\n",
    "df['Cooling_Power_Index'] = (df['AT'] - df['AP']) * df['RH']\n",
    "\n",
    "# Vapor Pressure Deficit\n",
    "df['VPD'] = (1 - df['RH'] / 100) * df['P_vapor']\n",
    "\n",
    "# Rolling stats (3-hour window)\n",
    "df['AT_roll_mean'] = df['AT'].rolling(window=3).mean()\n",
    "df['V_roll_std'] = df['V'].rolling(window=3).std()\n",
    "df['AP_roll_min'] = df['AP'].rolling(window=3).min()\n",
    "df['RH_roll_max'] = df['RH'].rolling(window=3).max()\n",
    "\n",
    "# ===== 5. Categorical Engineering =====\n",
    "df['Temp_Category'] = pd.cut(df['AT'], bins=[0, 10, 25, 40], labels=['Cold', 'Moderate', 'Hot'])\n",
    "df['Humidity_Category'] = pd.cut(df['RH'], bins=[0, 40, 70, 100], labels=['Dry', 'Normal', 'Humid'])\n",
    "\n",
    "# ===== Final Cleanup =====\n",
    "df.drop(columns=['P_vapor'], inplace=True)  # Already used in other features"
   ],
   "id": "36edaca44a40a81c",
   "outputs": [],
   "execution_count": 4
  },
  {
   "metadata": {
    "ExecuteTime": {
     "end_time": "2025-03-24T07:26:08.426574Z",
     "start_time": "2025-03-24T07:26:08.423150Z"
    }
   },
   "cell_type": "code",
   "source": "df.dropna(inplace=True)",
   "id": "86e45ce428d81fba",
   "outputs": [],
   "execution_count": 5
  },
  {
   "metadata": {
    "ExecuteTime": {
     "end_time": "2025-03-24T07:26:08.472248Z",
     "start_time": "2025-03-24T07:26:08.468899Z"
    }
   },
   "cell_type": "code",
   "source": [
    "X = df.drop(columns=\"PE\", axis=1)\n",
    "Y = df.PE"
   ],
   "id": "5c9e9583fe61f838",
   "outputs": [],
   "execution_count": 6
  },
  {
   "metadata": {
    "ExecuteTime": {
     "end_time": "2025-03-24T07:26:08.520863Z",
     "start_time": "2025-03-24T07:26:08.515492Z"
    }
   },
   "cell_type": "code",
   "source": "X_train, X_test, y_train, y_test = train_test_split(X, Y, test_size = 0.30, random_state = 1)",
   "id": "1fc89fa5bf9cfe1",
   "outputs": [],
   "execution_count": 7
  },
  {
   "metadata": {
    "ExecuteTime": {
     "end_time": "2025-03-24T07:26:08.569134Z",
     "start_time": "2025-03-24T07:26:08.566278Z"
    }
   },
   "cell_type": "code",
   "source": [
    "print('X_train shape : ({0},{1})'.format(X_train.shape[0], X_train.shape[1]))\n",
    "print('y_train shape : ({0},)'.format(y_train.shape[0]))\n",
    "print('X_test shape : ({0},{1})'.format(X_test.shape[0], X_test.shape[1]))\n",
    "print('y_test shape : ({0},)'.format(y_test.shape[0]))"
   ],
   "id": "41eea5d16db38cb4",
   "outputs": [
    {
     "name": "stdout",
     "output_type": "stream",
     "text": [
      "X_train shape : (6629,30)\n",
      "y_train shape : (6629,)\n",
      "X_test shape : (2841,30)\n",
      "y_test shape : (2841,)\n"
     ]
    }
   ],
   "execution_count": 8
  },
  {
   "metadata": {
    "ExecuteTime": {
     "end_time": "2025-03-24T07:26:08.712376Z",
     "start_time": "2025-03-24T07:26:08.620901Z"
    }
   },
   "cell_type": "code",
   "source": [
    "# Bin PE into 4 balanced classes\n",
    "bins = pd.qcut(df['PE'], q=4, labels=['Low', 'Medium-Low', 'Medium-High', 'High'])\n",
    "df['PE_Class'] = bins\n",
    "\n",
    "# Check balance\n",
    "print(df['PE_Class'].value_counts())\n",
    "sns.countplot(data=df, x='PE_Class')\n",
    "plt.title(\"Class Distribution\")\n",
    "plt.show()\n"
   ],
   "id": "e833f316ff7b1046",
   "outputs": [
    {
     "name": "stdout",
     "output_type": "stream",
     "text": [
      "PE_Class\n",
      "Low            2369\n",
      "Medium-High    2369\n",
      "Medium-Low     2366\n",
      "High           2366\n",
      "Name: count, dtype: int64\n"
     ]
    },
    {
     "data": {
      "text/plain": [
       "<Figure size 640x480 with 1 Axes>"
      ],
      "image/png": "[encoded data removed]"
     },
     "metadata": {},
     "output_type": "display_data"
    }
   ],
   "execution_count": 9
  },
  {
   "metadata": {
    "ExecuteTime": {
     "end_time": "2025-03-24T07:26:08.737392Z",
     "start_time": "2025-03-24T07:26:08.732873Z"
    }
   },
   "cell_type": "code",
   "source": [
    "# Create qcut with return of bin intervals\n",
    "bins_with_ranges = pd.qcut(df['PE'], q=4)\n",
    "\n",
    "# Extract the unique intervals used for the cut\n",
    "print(\"Bin Intervals:\")\n",
    "print(bins_with_ranges.unique())\n"
   ],
   "id": "6cb2dfdbe09ef419",
   "outputs": [
    {
     "name": "stdout",
     "output_type": "stream",
     "text": [
      "Bin Intervals:\n",
      "[(468.4, 495.76], (439.71, 451.455], (451.455, 468.4], (420.259, 439.71]]\n",
      "Categories (4, interval[float64, right]): [(420.259, 439.71] < (439.71, 451.455] < (451.455, 468.4] < (468.4, 495.76]]\n"
     ]
    }
   ],
   "execution_count": 10
  },
  {
   "metadata": {
    "ExecuteTime": {
     "end_time": "2025-03-24T07:26:08.780476Z",
     "start_time": "2025-03-24T07:26:08.777707Z"
    }
   },
   "cell_type": "code",
   "source": [
    "# Core features\n",
    "base_features = ['AT', 'V', 'AP', 'RH']\n",
    "\n",
    "# Polynomial features\n",
    "poly_features = ['AT^2', 'V^2', 'AP^2', 'RH^2']\n",
    "\n",
    "# Interaction & composite features (includes GT-ST effect)\n",
    "interaction_features = ['AT_V', 'AT_AP', 'AT_RH', 'V_AP', 'V_RH', 'AP_RH', 'GT_ST_Index']\n",
    "\n",
    "\n",
    "# Environmental/physical indices\n",
    "env_indices = ['Cooling_Power_Index', 'VPD', 'HI', 'Dew_Point', 'Humidity_Ratio']\n",
    "\n",
    "# Combine them into 5 sets for model comparison\n",
    "feature_sets = {\n",
    "    \"Base\": base_features,\n",
    "    \"Poly\": base_features + poly_features,\n",
    "    \"Interaction\": base_features + interaction_features,\n",
    "    \"All+Env\": base_features + poly_features + interaction_features + env_indices\n",
    "}\n"
   ],
   "id": "2c0c23d5a5c813e3",
   "outputs": [],
   "execution_count": 11
  },
  {
   "metadata": {
    "ExecuteTime": {
     "end_time": "2025-03-24T07:26:08.834852Z",
     "start_time": "2025-03-24T07:26:08.826489Z"
    }
   },
   "cell_type": "code",
   "source": "X.info()",
   "id": "875bb9efb4dc6518",
   "outputs": [
    {
     "name": "stdout",
     "output_type": "stream",
     "text": [
      "<class 'pandas.core.frame.DataFrame'>\n",
      "Index: 9470 entries, 2 to 9526\n",
      "Data columns (total 30 columns):\n",
      " #   Column               Non-Null Count  Dtype   \n",
      "---  ------               --------------  -----   \n",
      " 0   AT                   9470 non-null   float64 \n",
      " 1   V                    9470 non-null   float64 \n",
      " 2   AP                   9470 non-null   float64 \n",
      " 3   RH                   9470 non-null   float64 \n",
      " 4   AT^2                 9470 non-null   float64 \n",
      " 5   V^2                  9470 non-null   float64 \n",
      " 6   AP^2                 9470 non-null   float64 \n",
      " 7   RH^2                 9470 non-null   float64 \n",
      " 8   AT_V                 9470 non-null   float64 \n",
      " 9   AT_AP                9470 non-null   float64 \n",
      " 10  AT_RH                9470 non-null   float64 \n",
      " 11  V_AP                 9470 non-null   float64 \n",
      " 12  V_RH                 9470 non-null   float64 \n",
      " 13  AP_RH                9470 non-null   float64 \n",
      " 14  GT_ST_Index          9470 non-null   float64 \n",
      " 15  AT_diff_mean         9470 non-null   float64 \n",
      " 16  AT_norm              9470 non-null   float64 \n",
      " 17  HI                   9470 non-null   float64 \n",
      " 18  AP_diff_mean         9470 non-null   float64 \n",
      " 19  RH_diff_mean         9470 non-null   float64 \n",
      " 20  Dew_Point            9470 non-null   float64 \n",
      " 21  Humidity_Ratio       9470 non-null   float64 \n",
      " 22  Cooling_Power_Index  9470 non-null   float64 \n",
      " 23  VPD                  9470 non-null   float64 \n",
      " 24  AT_roll_mean         9470 non-null   float64 \n",
      " 25  V_roll_std           9470 non-null   float64 \n",
      " 26  AP_roll_min          9470 non-null   float64 \n",
      " 27  RH_roll_max          9470 non-null   float64 \n",
      " 28  Temp_Category        9470 non-null   category\n",
      " 29  Humidity_Category    9470 non-null   category\n",
      "dtypes: category(2), float64(28)\n",
      "memory usage: 2.1 MB\n"
     ]
    }
   ],
   "execution_count": 12
  },
  {
   "metadata": {
    "ExecuteTime": {
     "end_time": "2025-03-24T07:27:21.440888Z",
     "start_time": "2025-03-24T07:26:08.938346Z"
    }
   },
   "cell_type": "code",
   "source": [
    "results = []\n",
    "\n",
    "for name, features in feature_sets.items():\n",
    "    X = df[features]\n",
    "    y = df['PE_Class']\n",
    "\n",
    "    # Drop any remaining NaNs from lag or rolling features\n",
    "    X = X.dropna()\n",
    "    y = y.loc[X.index]\n",
    "\n",
    "    X_train, X_test, y_train, y_test = train_test_split(X, y, test_size=0.3, stratify=y)\n",
    "\n",
    "    # Setup model with GridSearch\n",
    "    dt = DecisionTreeClassifier()\n",
    "    param_grid = {\n",
    "        'max_depth': [3, 5, 10, 15],\n",
    "        'min_samples_split': [2, 5, 10],\n",
    "        'criterion': ['gini', 'entropy']\n",
    "    }\n",
    "\n",
    "    clf = GridSearchCV(dt, param_grid, cv=20, scoring='accuracy')\n",
    "    clf.fit(X_train, y_train)\n",
    "\n",
    "    best_model = clf.best_estimator_\n",
    "    y_pred = best_model.predict(X_test)\n",
    "    acc = accuracy_score(y_test, y_pred)\n",
    "\n",
    "    print(f\"\\nModel: {name}\")\n",
    "    print(\"Best Params:\", clf.best_params_)\n",
    "    print(\"Accuracy:\", acc)\n",
    "    print(classification_report(y_test, y_pred))\n",
    "\n",
    "    # Save result\n",
    "    results.append({\n",
    "        \"Model\": name,\n",
    "        \"Best Params\": clf.best_params_,\n",
    "        \"Accuracy\": round(acc * 100, 2)\n",
    "    })\n"
   ],
   "id": "167b7bbfe992b6e9",
   "outputs": [
    {
     "name": "stdout",
     "output_type": "stream",
     "text": [
      "\n",
      "Model: Base\n",
      "Best Params: {'criterion': 'entropy', 'max_depth': 10, 'min_samples_split': 2}\n",
      "Accuracy: 0.8187258007743752\n",
      "              precision    recall  f1-score   support\n",
      "\n",
      "        High       0.85      0.90      0.87       710\n",
      "         Low       0.83      0.88      0.86       711\n",
      " Medium-High       0.81      0.75      0.78       710\n",
      "  Medium-Low       0.78      0.75      0.76       710\n",
      "\n",
      "    accuracy                           0.82      2841\n",
      "   macro avg       0.82      0.82      0.82      2841\n",
      "weighted avg       0.82      0.82      0.82      2841\n",
      "\n",
      "\n",
      "Model: Poly\n",
      "Best Params: {'criterion': 'gini', 'max_depth': 10, 'min_samples_split': 10}\n",
      "Accuracy: 0.8254135867652235\n",
      "              precision    recall  f1-score   support\n",
      "\n",
      "        High       0.90      0.87      0.88       710\n",
      "         Low       0.85      0.86      0.85       711\n",
      " Medium-High       0.80      0.80      0.80       710\n",
      "  Medium-Low       0.76      0.78      0.77       710\n",
      "\n",
      "    accuracy                           0.83      2841\n",
      "   macro avg       0.83      0.83      0.83      2841\n",
      "weighted avg       0.83      0.83      0.83      2841\n",
      "\n",
      "\n",
      "Model: Interaction\n",
      "Best Params: {'criterion': 'gini', 'max_depth': 10, 'min_samples_split': 2}\n",
      "Accuracy: 0.8271735304470257\n",
      "              precision    recall  f1-score   support\n",
      "\n",
      "        High       0.92      0.87      0.90       710\n",
      "         Low       0.86      0.83      0.84       710\n",
      " Medium-High       0.80      0.82      0.81       711\n",
      "  Medium-Low       0.74      0.79      0.76       710\n",
      "\n",
      "    accuracy                           0.83      2841\n",
      "   macro avg       0.83      0.83      0.83      2841\n",
      "weighted avg       0.83      0.83      0.83      2841\n",
      "\n",
      "\n",
      "Model: All+Env\n",
      "Best Params: {'criterion': 'gini', 'max_depth': 10, 'min_samples_split': 10}\n",
      "Accuracy: 0.8342133051742344\n",
      "              precision    recall  f1-score   support\n",
      "\n",
      "        High       0.92      0.89      0.91       710\n",
      "         Low       0.82      0.87      0.85       710\n",
      " Medium-High       0.81      0.84      0.83       711\n",
      "  Medium-Low       0.78      0.73      0.75       710\n",
      "\n",
      "    accuracy                           0.83      2841\n",
      "   macro avg       0.83      0.83      0.83      2841\n",
      "weighted avg       0.83      0.83      0.83      2841\n",
      "\n"
     ]
    }
   ],
   "execution_count": 13
  },
  {
   "metadata": {
    "ExecuteTime": {
     "end_time": "2025-03-24T07:27:21.476038Z",
     "start_time": "2025-03-24T07:27:21.469916Z"
    }
   },
   "cell_type": "code",
   "source": [
    "results_df = pd.DataFrame(results)\n",
    "results_df"
   ],
   "id": "da8f9b4a278819f9",
   "outputs": [
    {
     "data": {
      "text/plain": [
       "         Model                                        Best Params  Accuracy\n",
       "0         Base  {'criterion': 'entropy', 'max_depth': 10, 'min...     81.87\n",
       "1         Poly  {'criterion': 'gini', 'max_depth': 10, 'min_sa...     82.54\n",
       "2  Interaction  {'criterion': 'gini', 'max_depth': 10, 'min_sa...     82.72\n",
       "3      All+Env  {'criterion': 'gini', 'max_depth': 10, 'min_sa...     83.42"
      ],
      "text/html": [
       "<div>\n",
       "<style scoped>\n",
       "    .dataframe tbody tr th:only-of-type {\n",
       "        vertical-align: middle;\n",
       "    }\n",
       "\n",
       "    .dataframe tbody tr th {\n",
       "        vertical-align: top;\n",
       "    }\n",
       "\n",
       "    .dataframe thead th {\n",
       "        text-align: right;\n",
       "    }\n",
       "</style>\n",
       "<table border=\"1\" class=\"dataframe\">\n",
       "  <thead>\n",
       "    <tr style=\"text-align: right;\">\n",
       "      <th></th>\n",
       "      <th>Model</th>\n",
       "      <th>Best Params</th>\n",
       "      <th>Accuracy</th>\n",
       "    </tr>\n",
       "  </thead>\n",
       "  <tbody>\n",
       "    <tr>\n",
       "      <th>0</th>\n",
       "      <td>Base</td>\n",
       "      <td>{'criterion': 'entropy', 'max_depth': 10, 'min...</td>\n",
       "      <td>81.87</td>\n",
       "    </tr>\n",
       "    <tr>\n",
       "      <th>1</th>\n",
       "      <td>Poly</td>\n",
       "      <td>{'criterion': 'gini', 'max_depth': 10, 'min_sa...</td>\n",
       "      <td>82.54</td>\n",
       "    </tr>\n",
       "    <tr>\n",
       "      <th>2</th>\n",
       "      <td>Interaction</td>\n",
       "      <td>{'criterion': 'gini', 'max_depth': 10, 'min_sa...</td>\n",
       "      <td>82.72</td>\n",
       "    </tr>\n",
       "    <tr>\n",
       "      <th>3</th>\n",
       "      <td>All+Env</td>\n",
       "      <td>{'criterion': 'gini', 'max_depth': 10, 'min_sa...</td>\n",
       "      <td>83.42</td>\n",
       "    </tr>\n",
       "  </tbody>\n",
       "</table>\n",
       "</div>"
      ]
     },
     "execution_count": 14,
     "metadata": {},
     "output_type": "execute_result"
    }
   ],
   "execution_count": 14
  }
 ],
 "metadata": {
  "kernelspec": {
   "display_name": "Python 3",
   "language": "python",
   "name": "python3"
  },
  "language_info": {
   "codemirror_mode": {
    "name": "ipython",
    "version": 2
   },
   "file_extension": ".py",
   "mimetype": "text/x-python",
   "name": "python",
   "nbconvert_exporter": "python",
   "pygments_lexer": "ipython2",
   "version": "2.7.6"
  }
 },
 "nbformat": 4,
 "nbformat_minor": 5
}

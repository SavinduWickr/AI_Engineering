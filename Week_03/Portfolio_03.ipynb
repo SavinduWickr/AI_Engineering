{
 "cells": [
  {
   "metadata": {
    "ExecuteTime": {
     "end_time": "2025-03-24T03:54:50.839809Z",
     "start_time": "2025-03-24T03:54:50.528279Z"
    }
   },
   "cell_type": "code",
   "source": [
    "import pandas as pd\n",
    "import numpy as np\n",
    "from scipy.integrate import simpson as simps\n",
    "from scipy.signal import find_peaks\n",
    "from sklearn.svm import SVC\n",
    "from sklearn.model_selection import train_test_split, cross_val_score, GridSearchCV\n",
    "from sklearn.feature_selection import SelectKBest, f_classif\n",
    "from sklearn.decomposition import PCA\n",
    "from sklearn.linear_model import SGDClassifier\n",
    "from sklearn.ensemble import RandomForestClassifier\n",
    "from sklearn.neural_network import MLPClassifier\n",
    "from sklearn.metrics import accuracy_score\n",
    "import warnings"
   ],
   "id": "c9b234ed396cbace",
   "outputs": [],
   "execution_count": 12
  },
  {
   "metadata": {
    "collapsed": true,
    "ExecuteTime": {
     "end_time": "2025-03-24T04:26:09.104556Z",
     "start_time": "2025-03-24T04:26:08.203855Z"
    }
   },
   "cell_type": "code",
   "source": [
    "# === Load Data ===\n",
    "boning = pd.read_csv('Boning.csv')\n",
    "slicing = pd.read_csv('Slicing.csv')\n",
    "\n",
    "# === Step 1: Filter Required Columns ===\n",
    "cols = ['Frame', 'Neck x', 'Neck y', 'Neck z', 'Head x', 'Head y', 'Head z']\n",
    "boning = boning[cols].copy()\n",
    "slicing = slicing[cols].copy()\n",
    "boning['class'] = 0\n",
    "slicing['class'] = 1\n",
    "df = pd.concat([boning, slicing], ignore_index=True)\n",
    "\n",
    "# === Step 2: Composite Feature Functions ===\n",
    "def compute_features(df, prefix):\n",
    "    x, y, z = df[f'{prefix} x'], df[f'{prefix} y'], df[f'{prefix} z']\n",
    "    return pd.DataFrame({\n",
    "        f'{prefix}_rms_xy': np.sqrt(x**2 + y**2),\n",
    "        f'{prefix}_rms_yz': np.sqrt(y**2 + z**2),\n",
    "        f'{prefix}_rms_zx': np.sqrt(z**2 + x**2),\n",
    "        f'{prefix}_rms_xyz': np.sqrt(x**2 + y**2 + z**2),\n",
    "        f'{prefix}_roll': np.degrees(np.arctan2(y, np.sqrt(x**2 + z**2))),\n",
    "        f'{prefix}_pitch': np.degrees(np.arctan2(x, np.sqrt(y**2 + z**2)))\n",
    "    })\n",
    "\n",
    "neck_features = compute_features(df, 'Neck')\n",
    "head_features = compute_features(df, 'Head')\n",
    "df = pd.concat([df, neck_features, head_features], axis=1)\n"
   ],
   "id": "initial_id",
   "outputs": [],
   "execution_count": 31
  },
  {
   "metadata": {
    "ExecuteTime": {
     "end_time": "2025-03-24T03:55:59.312389Z",
     "start_time": "2025-03-24T03:55:55.701331Z"
    }
   },
   "cell_type": "code",
   "source": [
    "# === Step 3: Feature Computation per Minute (60 Frames) ===\n",
    "def extract_features(block):\n",
    "    feats = {}\n",
    "    for col in block.columns:\n",
    "        values = block[col].values\n",
    "        feats[f'{col}_mean'] = np.mean(values)\n",
    "        feats[f'{col}_std'] = np.std(values)\n",
    "        feats[f'{col}_min'] = np.min(values)\n",
    "        feats[f'{col}_max'] = np.max(values)\n",
    "        feats[f'{col}_auc'] = simps(values)\n",
    "        feats[f'{col}_peaks'] = len(find_peaks(values)[0])\n",
    "    return feats\n",
    "\n",
    "# Exclude frame and class\n",
    "feature_cols = df.columns.difference(['Frame', 'class'])\n",
    "samples = []\n",
    "\n",
    "for start in range(0, len(df), 60):\n",
    "    end = start + 60\n",
    "    if end > len(df):\n",
    "        break\n",
    "    block = df.iloc[start:end]\n",
    "    features = extract_features(block[feature_cols])\n",
    "    features['class'] = block['class'].iloc[0]\n",
    "    samples.append(features)\n",
    "\n",
    "features_df = pd.DataFrame(samples)\n",
    "features_df.reset_index(drop=True, inplace=True)\n",
    "\n",
    "# === Save final features ===\n",
    "features_df.to_csv(\"final_feature_dataset.csv\", index=False)\n",
    "print(\"Final dataset with 108 features + class label saved as 'final_feature_dataset.csv'\")"
   ],
   "id": "5088b8823ad97142",
   "outputs": [
    {
     "name": "stdout",
     "output_type": "stream",
     "text": [
      "Final dataset with 108 features + class label saved as 'final_feature_dataset.csv'\n"
     ]
    }
   ],
   "execution_count": 17
  },
  {
   "metadata": {
    "ExecuteTime": {
     "end_time": "2025-03-24T03:56:59.731281Z",
     "start_time": "2025-03-24T03:56:59.724166Z"
    }
   },
   "cell_type": "code",
   "source": [
    "# === Step 4: Model Training and Evaluation ===\n",
    "X = features_df.drop(columns=[\"class\"])\n",
    "y = features_df[\"class\"]\n",
    "\n",
    "def evaluate_model(clf, X, y):\n",
    "    X_train, X_test, y_train, y_test = train_test_split(X, y, test_size=0.3, random_state=42)\n",
    "    clf.fit(X_train, y_train)\n",
    "    test_acc = accuracy_score(y_test, clf.predict(X_test))\n",
    "    cross_val_acc = cross_val_score(clf, X, y, cv=10).mean()\n",
    "    return round(test_acc * 100, 2), round(cross_val_acc * 100, 2)\n",
    "\n",
    "svm_results = {}\n",
    "\n"
   ],
   "id": "55671cb11ec0a542",
   "outputs": [],
   "execution_count": 21
  },
  {
   "metadata": {
    "ExecuteTime": {
     "end_time": "2025-03-24T03:57:08.901208Z",
     "start_time": "2025-03-24T03:57:08.118510Z"
    }
   },
   "cell_type": "code",
   "source": [
    "# 1. Base SVM\n",
    "svm_results[\"Original features\"] = evaluate_model(SVC(), X, y)"
   ],
   "id": "6440bca0aebdca48",
   "outputs": [],
   "execution_count": 22
  },
  {
   "metadata": {
    "ExecuteTime": {
     "end_time": "2025-03-24T03:57:19.532158Z",
     "start_time": "2025-03-24T03:57:16.962671Z"
    }
   },
   "cell_type": "code",
   "source": [
    "# 2. SVM with Hyperparameter Tuning\n",
    "param_grid = {'C': [0.1, 1, 10], 'gamma': ['scale', 0.1, 1], 'kernel': ['rbf']}\n",
    "grid_svm = GridSearchCV(SVC(), param_grid, cv=3)\n",
    "grid_svm.fit(X, y)\n",
    "best_svm = grid_svm.best_estimator_\n",
    "svm_results[\"With hyper-parameter tuning\"] = evaluate_model(best_svm, X, y)"
   ],
   "id": "5147661102c4bc3f",
   "outputs": [],
   "execution_count": 23
  },
  {
   "metadata": {
    "ExecuteTime": {
     "end_time": "2025-03-24T03:57:23.270096Z",
     "start_time": "2025-03-24T03:57:23.033258Z"
    }
   },
   "cell_type": "code",
   "source": [
    "# 3. SVM + Feature Selection\n",
    "X_selected = SelectKBest(score_func=f_classif, k=10).fit_transform(X, y)\n",
    "svm_results[\"With feature selection and hyperparameter tuning\"] = evaluate_model(best_svm, X_selected, y)"
   ],
   "id": "12957977889fe27e",
   "outputs": [],
   "execution_count": 24
  },
  {
   "metadata": {
    "ExecuteTime": {
     "end_time": "2025-03-24T03:57:33.148048Z",
     "start_time": "2025-03-24T03:57:32.657348Z"
    }
   },
   "cell_type": "code",
   "source": [
    "# 4. SVM + PCA\n",
    "X_pca = PCA(n_components=10).fit_transform(X)\n",
    "svm_results[\"With PCA and hyperparameter tuning\"] = evaluate_model(best_svm, X_pca, y)"
   ],
   "id": "2bf01631e53d0f55",
   "outputs": [],
   "execution_count": 25
  },
  {
   "metadata": {
    "ExecuteTime": {
     "end_time": "2025-03-24T03:58:03.638935Z",
     "start_time": "2025-03-24T03:57:39.612704Z"
    }
   },
   "cell_type": "code",
   "source": [
    "# === Step 5: Other Classifiers ===\n",
    "other_results = {\n",
    "    \"SVM\": svm_results[\"With hyper-parameter tuning\"],\n",
    "    \"SGD\": evaluate_model(SGDClassifier(), X, y),\n",
    "    \"RandomForest\": evaluate_model(RandomForestClassifier(), X, y),\n",
    "    \"MLP\": evaluate_model(MLPClassifier(max_iter=500), X, y)\n",
    "}"
   ],
   "id": "c15a94867d923c7c",
   "outputs": [],
   "execution_count": 26
  },
  {
   "metadata": {
    "ExecuteTime": {
     "end_time": "2025-03-24T03:58:03.759942Z",
     "start_time": "2025-03-24T03:58:03.741056Z"
    }
   },
   "cell_type": "code",
   "source": [
    "# === Summary Tables ===\n",
    "svm_summary = pd.DataFrame(svm_results, index=[\"Train-test split\", \"Cross-validation\"]).T\n",
    "other_summary = pd.DataFrame(other_results, index=[\"Train-test split\", \"Cross-validation\"]).T\n",
    "\n",
    "print(\"=== SVM Summary Table ===\")\n",
    "display(svm_summary)\n",
    "\n",
    "print(\"\\n=== Other Classifiers Summary Table ===\")\n",
    "display(other_summary)"
   ],
   "id": "b6bf021dd128e75",
   "outputs": [
    {
     "name": "stdout",
     "output_type": "stream",
     "text": [
      "=== SVM Summary Table ===\n"
     ]
    },
    {
     "data": {
      "text/plain": [
       "                                                  Train-test split  \\\n",
       "Original features                                            77.56   \n",
       "With hyper-parameter tuning                                  77.56   \n",
       "With feature selection and hyperparameter tuning             82.55   \n",
       "With PCA and hyperparameter tuning                           77.56   \n",
       "\n",
       "                                                  Cross-validation  \n",
       "Original features                                            75.35  \n",
       "With hyper-parameter tuning                                  75.35  \n",
       "With feature selection and hyperparameter tuning             84.01  \n",
       "With PCA and hyperparameter tuning                           75.35  "
      ],
      "text/html": [
       "<div>\n",
       "<style scoped>\n",
       "    .dataframe tbody tr th:only-of-type {\n",
       "        vertical-align: middle;\n",
       "    }\n",
       "\n",
       "    .dataframe tbody tr th {\n",
       "        vertical-align: top;\n",
       "    }\n",
       "\n",
       "    .dataframe thead th {\n",
       "        text-align: right;\n",
       "    }\n",
       "</style>\n",
       "<table border=\"1\" class=\"dataframe\">\n",
       "  <thead>\n",
       "    <tr style=\"text-align: right;\">\n",
       "      <th></th>\n",
       "      <th>Train-test split</th>\n",
       "      <th>Cross-validation</th>\n",
       "    </tr>\n",
       "  </thead>\n",
       "  <tbody>\n",
       "    <tr>\n",
       "      <th>Original features</th>\n",
       "      <td>77.56</td>\n",
       "      <td>75.35</td>\n",
       "    </tr>\n",
       "    <tr>\n",
       "      <th>With hyper-parameter tuning</th>\n",
       "      <td>77.56</td>\n",
       "      <td>75.35</td>\n",
       "    </tr>\n",
       "    <tr>\n",
       "      <th>With feature selection and hyperparameter tuning</th>\n",
       "      <td>82.55</td>\n",
       "      <td>84.01</td>\n",
       "    </tr>\n",
       "    <tr>\n",
       "      <th>With PCA and hyperparameter tuning</th>\n",
       "      <td>77.56</td>\n",
       "      <td>75.35</td>\n",
       "    </tr>\n",
       "  </tbody>\n",
       "</table>\n",
       "</div>"
      ]
     },
     "metadata": {},
     "output_type": "display_data"
    },
    {
     "name": "stdout",
     "output_type": "stream",
     "text": [
      "\n",
      "=== Other Classifiers Summary Table ===\n"
     ]
    },
    {
     "data": {
      "text/plain": [
       "              Train-test split  Cross-validation\n",
       "SVM                      77.56             75.35\n",
       "SGD                      73.68             72.19\n",
       "RandomForest             85.60             86.10\n",
       "MLP                      73.68             76.52"
      ],
      "text/html": [
       "<div>\n",
       "<style scoped>\n",
       "    .dataframe tbody tr th:only-of-type {\n",
       "        vertical-align: middle;\n",
       "    }\n",
       "\n",
       "    .dataframe tbody tr th {\n",
       "        vertical-align: top;\n",
       "    }\n",
       "\n",
       "    .dataframe thead th {\n",
       "        text-align: right;\n",
       "    }\n",
       "</style>\n",
       "<table border=\"1\" class=\"dataframe\">\n",
       "  <thead>\n",
       "    <tr style=\"text-align: right;\">\n",
       "      <th></th>\n",
       "      <th>Train-test split</th>\n",
       "      <th>Cross-validation</th>\n",
       "    </tr>\n",
       "  </thead>\n",
       "  <tbody>\n",
       "    <tr>\n",
       "      <th>SVM</th>\n",
       "      <td>77.56</td>\n",
       "      <td>75.35</td>\n",
       "    </tr>\n",
       "    <tr>\n",
       "      <th>SGD</th>\n",
       "      <td>73.68</td>\n",
       "      <td>72.19</td>\n",
       "    </tr>\n",
       "    <tr>\n",
       "      <th>RandomForest</th>\n",
       "      <td>85.60</td>\n",
       "      <td>86.10</td>\n",
       "    </tr>\n",
       "    <tr>\n",
       "      <th>MLP</th>\n",
       "      <td>73.68</td>\n",
       "      <td>76.52</td>\n",
       "    </tr>\n",
       "  </tbody>\n",
       "</table>\n",
       "</div>"
      ]
     },
     "metadata": {},
     "output_type": "display_data"
    }
   ],
   "execution_count": 27
  },
  {
   "metadata": {},
   "cell_type": "code",
   "outputs": [],
   "execution_count": null,
   "source": "",
   "id": "aa36d5d5349a0364"
  }
 ],
 "metadata": {
  "kernelspec": {
   "display_name": "Python 3",
   "language": "python",
   "name": "python3"
  },
  "language_info": {
   "codemirror_mode": {
    "name": "ipython",
    "version": 2
   },
   "file_extension": ".py",
   "mimetype": "text/x-python",
   "name": "python",
   "nbconvert_exporter": "python",
   "pygments_lexer": "ipython2",
   "version": "2.7.6"
  }
 },
 "nbformat": 4,
 "nbformat_minor": 5
}

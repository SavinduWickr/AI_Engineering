{
 "cells": [
  {
   "metadata": {
    "ExecuteTime": {
     "end_time": "2025-03-31T04:03:03.382022Z",
     "start_time": "2025-03-31T04:03:03.378621Z"
    }
   },
   "cell_type": "code",
   "source": [
    "import pandas as pd\n",
    "import numpy as np\n",
    "from scipy.integrate import simpson as simps\n",
    "from scipy.signal import find_peaks\n",
    "from sklearn.svm import SVC\n",
    "from sklearn.model_selection import train_test_split, cross_val_score, GridSearchCV\n",
    "from sklearn.feature_selection import SelectKBest, f_classif\n",
    "from sklearn.decomposition import PCA\n",
    "from sklearn.linear_model import SGDClassifier\n",
    "from sklearn.ensemble import RandomForestClassifier\n",
    "from sklearn.neural_network import MLPClassifier\n",
    "from sklearn.metrics import accuracy_score\n",
    "import warnings"
   ],
   "id": "7ec5b4848885d7d7",
   "outputs": [],
   "execution_count": 2
  },
  {
   "metadata": {
    "ExecuteTime": {
     "end_time": "2025-03-31T04:18:01.130009Z",
     "start_time": "2025-03-31T04:17:59.465424Z"
    }
   },
   "cell_type": "code",
   "source": [
    "import pandas as pd\n",
    "import numpy as np\n",
    "\n",
    "# Load CSV files (update the paths if needed)\n",
    "w1 = pd.read_csv('data/w1.csv')\n",
    "w2 = pd.read_csv('data/w2.csv')\n",
    "w3 = pd.read_csv('data/w3.csv')\n",
    "w4 = pd.read_csv('data/w4.csv')\n",
    "\n",
    "# Combine the four CSV files into one DataFrame\n",
    "df = pd.concat([w1, w2, w3, w4], ignore_index=True)\n",
    "\n",
    "# Shuffle the data to ensure randomness\n",
    "df = df.sample(frac=1, random_state=42).reset_index(drop=True)\n",
    "\n",
    "# Save the combined and shuffled dataset (as 'combined_data.csv' and 'all_data.csv')\n",
    "df.to_csv(\"combined_data.csv\", index=False)\n",
    "df.to_csv(\"all_data.csv\", index=False)\n",
    "\n",
    "print(\"Combined and shuffled dataset saved as 'combined_data.csv' and 'all_data.csv'\")\n"
   ],
   "id": "78cc58b9bd14404e",
   "outputs": [
    {
     "name": "stdout",
     "output_type": "stream",
     "text": [
      "Combined and shuffled dataset saved as 'combined_data.csv' and 'all_data.csv'\n"
     ]
    }
   ],
   "execution_count": 7
  },
  {
   "metadata": {
    "ExecuteTime": {
     "end_time": "2025-03-31T06:33:28.489947Z",
     "start_time": "2025-03-31T06:23:04.385758Z"
    }
   },
   "cell_type": "code",
   "source": [
    "from sklearn.model_selection import train_test_split, cross_val_score, GridSearchCV\n",
    "from sklearn.svm import SVC\n",
    "from sklearn.metrics import accuracy_score\n",
    "from sklearn.feature_selection import SelectKBest, f_classif\n",
    "from sklearn.decomposition import PCA\n",
    "from sklearn.linear_model import SGDClassifier\n",
    "from sklearn.ensemble import RandomForestClassifier\n",
    "from sklearn.neural_network import MLPClassifier\n",
    "\n",
    "# Last column is the class label, separate features (X) and target (y)\n",
    "X = df.iloc[:, :-1]\n",
    "y = df.iloc[:, -1]\n",
    "\n",
    "def evaluate_model(clf, X, y):\n",
    "    # Split the data into 70% training and 30% testing\n",
    "    X_train, X_test, y_train, y_test = train_test_split(X, y, test_size=0.3, random_state=42)\n",
    "    clf.fit(X_train, y_train)\n",
    "    test_acc = accuracy_score(y_test, clf.predict(X_test))\n",
    "    cross_val_acc = cross_val_score(clf, X, y, cv=10).mean()\n",
    "    return round(test_acc * 100, 2), round(cross_val_acc * 100, 2)\n",
    "\n",
    "# Dictionary to store SVM results\n",
    "svm_results = {}\n",
    "\n",
    "# 1. Base SVM with original features\n",
    "svm_results[\"Original features\"] = evaluate_model(SVC(), X, y)\n",
    "\n",
    "# 2. SVM with Hyperparameter Tuning using GridSearchCV\n",
    "param_grid = {\n",
    "    'C': [0.1, 1, 10],\n",
    "    'gamma': ['scale', 0.1, 1],\n",
    "    'kernel': ['rbf']\n",
    "}\n",
    "grid_svm = GridSearchCV(SVC(), param_grid, cv=3)\n",
    "grid_svm.fit(X, y)\n",
    "best_svm = grid_svm.best_estimator_\n",
    "svm_results[\"With hyper-parameter tuning\"] = evaluate_model(best_svm, X, y)\n",
    "\n",
    "# 3. SVM with Feature Selection and Hyperparameter Tuning\n",
    "# (Selecting the 100 best features)\n",
    "X_selected = SelectKBest(score_func=f_classif, k=100).fit_transform(X, y)\n",
    "svm_results[\"With feature selection and hyperparameter tuning\"] = evaluate_model(best_svm, X_selected, y)\n",
    "\n",
    "# 4. SVM with PCA and Hyperparameter Tuning\n",
    "# (Reducing to 10 principal components)\n",
    "X_pca = PCA(n_components=10).fit_transform(X)\n",
    "svm_results[\"With PCA and hyperparameter tuning\"] = evaluate_model(best_svm, X_pca, y)\n",
    "\n",
    "# Train and evaluate other classifiers\n",
    "other_results = {\n",
    "    \"SVM\": svm_results[\"With hyper-parameter tuning\"],\n",
    "    \"SGD\": evaluate_model(SGDClassifier(), X, y),\n",
    "    \"RandomForest\": evaluate_model(RandomForestClassifier(), X, y),\n",
    "    \"MLP\": evaluate_model(MLPClassifier(max_iter=500), X, y)\n",
    "}\n",
    "\n",
    "# Create summary tables\n",
    "svm_summary = pd.DataFrame(svm_results, index=[\"Train-test split\", \"Cross-validation\"]).T\n",
    "other_summary = pd.DataFrame(other_results, index=[\"Train-test split\", \"Cross-validation\"]).T\n",
    "\n",
    "print(\"\\n=== SVM Summary Table ===\")\n",
    "print(svm_summary)\n",
    "\n",
    "print(\"\\n=== Other Classifiers Summary Table ===\")\n",
    "print(other_summary)\n"
   ],
   "id": "cf47d48218a5226a",
   "outputs": [
    {
     "name": "stdout",
     "output_type": "stream",
     "text": [
      "\n",
      "=== SVM Summary Table ===\n",
      "                                                  Train-test split  \\\n",
      "Original features                                            89.17   \n",
      "With hyper-parameter tuning                                  89.48   \n",
      "With feature selection and hyperparameter tuning             89.17   \n",
      "With PCA and hyperparameter tuning                           90.03   \n",
      "\n",
      "                                                  Cross-validation  \n",
      "Original features                                            89.18  \n",
      "With hyper-parameter tuning                                  89.59  \n",
      "With feature selection and hyperparameter tuning             89.01  \n",
      "With PCA and hyperparameter tuning                           89.98  \n",
      "\n",
      "=== Other Classifiers Summary Table ===\n",
      "              Train-test split  Cross-validation\n",
      "SVM                      89.48             89.59\n",
      "SGD                      89.02             82.68\n",
      "RandomForest             92.63             92.67\n",
      "MLP                      89.08             85.53\n"
     ]
    }
   ],
   "execution_count": 9
  },
  {
   "metadata": {
    "ExecuteTime": {
     "end_time": "2025-03-31T09:53:16.412743Z",
     "start_time": "2025-03-31T09:53:16.335492Z"
    }
   },
   "cell_type": "code",
   "source": [
    "# If you prefer to display the tables as DataFrames in Jupyter Notebook:\n",
    "display(svm_summary)\n",
    "display(other_summary)\n"
   ],
   "id": "6dbcf16910a72785",
   "outputs": [
    {
     "data": {
      "text/plain": [
       "                                                  Train-test split  \\\n",
       "Original features                                            89.17   \n",
       "With hyper-parameter tuning                                  89.48   \n",
       "With feature selection and hyperparameter tuning             89.17   \n",
       "With PCA and hyperparameter tuning                           90.03   \n",
       "\n",
       "                                                  Cross-validation  \n",
       "Original features                                            89.18  \n",
       "With hyper-parameter tuning                                  89.59  \n",
       "With feature selection and hyperparameter tuning             89.01  \n",
       "With PCA and hyperparameter tuning                           89.98  "
      ],
      "text/html": [
       "<div>\n",
       "<style scoped>\n",
       "    .dataframe tbody tr th:only-of-type {\n",
       "        vertical-align: middle;\n",
       "    }\n",
       "\n",
       "    .dataframe tbody tr th {\n",
       "        vertical-align: top;\n",
       "    }\n",
       "\n",
       "    .dataframe thead th {\n",
       "        text-align: right;\n",
       "    }\n",
       "</style>\n",
       "<table border=\"1\" class=\"dataframe\">\n",
       "  <thead>\n",
       "    <tr style=\"text-align: right;\">\n",
       "      <th></th>\n",
       "      <th>Train-test split</th>\n",
       "      <th>Cross-validation</th>\n",
       "    </tr>\n",
       "  </thead>\n",
       "  <tbody>\n",
       "    <tr>\n",
       "      <th>Original features</th>\n",
       "      <td>89.17</td>\n",
       "      <td>89.18</td>\n",
       "    </tr>\n",
       "    <tr>\n",
       "      <th>With hyper-parameter tuning</th>\n",
       "      <td>89.48</td>\n",
       "      <td>89.59</td>\n",
       "    </tr>\n",
       "    <tr>\n",
       "      <th>With feature selection and hyperparameter tuning</th>\n",
       "      <td>89.17</td>\n",
       "      <td>89.01</td>\n",
       "    </tr>\n",
       "    <tr>\n",
       "      <th>With PCA and hyperparameter tuning</th>\n",
       "      <td>90.03</td>\n",
       "      <td>89.98</td>\n",
       "    </tr>\n",
       "  </tbody>\n",
       "</table>\n",
       "</div>"
      ]
     },
     "metadata": {},
     "output_type": "display_data"
    },
    {
     "data": {
      "text/plain": [
       "              Train-test split  Cross-validation\n",
       "SVM                      89.48             89.59\n",
       "SGD                      89.02             82.68\n",
       "RandomForest             92.63             92.67\n",
       "MLP                      89.08             85.53"
      ],
      "text/html": [
       "<div>\n",
       "<style scoped>\n",
       "    .dataframe tbody tr th:only-of-type {\n",
       "        vertical-align: middle;\n",
       "    }\n",
       "\n",
       "    .dataframe tbody tr th {\n",
       "        vertical-align: top;\n",
       "    }\n",
       "\n",
       "    .dataframe thead th {\n",
       "        text-align: right;\n",
       "    }\n",
       "</style>\n",
       "<table border=\"1\" class=\"dataframe\">\n",
       "  <thead>\n",
       "    <tr style=\"text-align: right;\">\n",
       "      <th></th>\n",
       "      <th>Train-test split</th>\n",
       "      <th>Cross-validation</th>\n",
       "    </tr>\n",
       "  </thead>\n",
       "  <tbody>\n",
       "    <tr>\n",
       "      <th>SVM</th>\n",
       "      <td>89.48</td>\n",
       "      <td>89.59</td>\n",
       "    </tr>\n",
       "    <tr>\n",
       "      <th>SGD</th>\n",
       "      <td>89.02</td>\n",
       "      <td>82.68</td>\n",
       "    </tr>\n",
       "    <tr>\n",
       "      <th>RandomForest</th>\n",
       "      <td>92.63</td>\n",
       "      <td>92.67</td>\n",
       "    </tr>\n",
       "    <tr>\n",
       "      <th>MLP</th>\n",
       "      <td>89.08</td>\n",
       "      <td>85.53</td>\n",
       "    </tr>\n",
       "  </tbody>\n",
       "</table>\n",
       "</div>"
      ]
     },
     "metadata": {},
     "output_type": "display_data"
    }
   ],
   "execution_count": 10
  },
  {
   "metadata": {},
   "cell_type": "code",
   "outputs": [],
   "execution_count": null,
   "source": "",
   "id": "1f41050859ad9ba"
  }
 ],
 "metadata": {
  "kernelspec": {
   "display_name": "Python 3",
   "language": "python",
   "name": "python3"
  },
  "language_info": {
   "codemirror_mode": {
    "name": "ipython",
    "version": 2
   },
   "file_extension": ".py",
   "mimetype": "text/x-python",
   "name": "python",
   "nbconvert_exporter": "python",
   "pygments_lexer": "ipython2",
   "version": "2.7.6"
  }
 },
 "nbformat": 4,
 "nbformat_minor": 5
}
